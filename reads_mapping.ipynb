{
 "cells": [
  {
   "cell_type": "code",
   "execution_count": 10,
   "id": "cafea3d9",
   "metadata": {},
   "outputs": [],
   "source": [
    "def hamming_distance(s1, s2):\n",
    "    dist = max(len(s1), len(s2)) # если разной длины - возвращаем длину наиб. строки - они не сравнимы\n",
    "    if len(s1) == len(s2):\n",
    "        dist = 0\n",
    "        for i in range(len(s1)):\n",
    "            if s1[i] != s2[i]:\n",
    "                dist += 1\n",
    "    return dist\n",
    "\n",
    "def build_kmers_map(genome, k):\n",
    "    hash_table = {}\n",
    "    for j in range(len(genome)-k+1):\n",
    "                k_mer = genome[j:j+k]\n",
    "                if k_mer in hash_table:\n",
    "                    hash_table[k_mer].append(j)\n",
    "                else:\n",
    "                    hash_table[k_mer] = [j]\n",
    "    return hash_table\n",
    "\n",
    "def simple_reads_mapping(genome, reads, k):\n",
    "    hash_table = build_kmers_map(genome, k)\n",
    "    mapped_reads = {}\n",
    "    count = 0\n",
    "    print(len(reads))\n",
    "    for read in reads:\n",
    "        if (count % 10000 == 0):\n",
    "            print(f\"Обработано {count} ридов\")\n",
    "        seed = read[0:k]\n",
    "        possible_poss = []\n",
    "        if seed in hash_table:\n",
    "            possible_poss = hash_table[seed] \n",
    "        for pos in possible_poss:\n",
    "            d = hamming_distance(read, genome[pos:pos+len(read)])\n",
    "            if d == 0:\n",
    "                mapped_reads[read] = pos\n",
    "                break\n",
    "        else:\n",
    "            mapped_reads[read] = -1 # нет идеального совпадения\n",
    "        count += 1\n",
    "        \n",
    "    return mapped_reads"
   ]
  },
  {
   "cell_type": "code",
   "execution_count": 12,
   "id": "f6e32984",
   "metadata": {},
   "outputs": [
    {
     "name": "stdout",
     "output_type": "stream",
     "text": [
      "3\n",
      "3\n",
      "Обработано 0 ридов\n"
     ]
    }
   ],
   "source": [
    "fasta_file = \"test_example/genome.fasta\"\n",
    "genome = \"\"\n",
    "with open(fasta_file) as file:\n",
    "    for line in file: \n",
    "        line = line.rstrip()\n",
    "        if line[0] != \">\":\n",
    "            genome += line \n",
    "\n",
    "reads_file = \"test_example/reads.txt\"\n",
    "reads_lst = []\n",
    "with open(reads_file) as reads:\n",
    "    for read in reads:\n",
    "        reads_lst.append(read.rstrip())\n",
    "\n",
    "k = int(input())\n",
    "\n",
    "mapped_reads = simple_reads_mapping(genome, reads_lst, k)"
   ]
  },
  {
   "cell_type": "code",
   "execution_count": 13,
   "id": "0b19a0c7",
   "metadata": {},
   "outputs": [
    {
     "data": {
      "text/plain": [
       "{'ANACAAGCCTCACTCCCTTTCGGATGGCTTATTGTT': 7,\n",
       " 'GNCTCCAAAGGCAATAGTGCGACCACCCTTACGAAG': -1,\n",
       " 'GNCCTAGATGGTGTCCAGCAATACGAAGATGTCCA': 212}"
      ]
     },
     "execution_count": 13,
     "metadata": {},
     "output_type": "execute_result"
    }
   ],
   "source": [
    "mapped_reads"
   ]
  },
  {
   "cell_type": "code",
   "execution_count": null,
   "id": "05c6f357",
   "metadata": {},
   "outputs": [],
   "source": []
  }
 ],
 "metadata": {
  "kernelspec": {
   "display_name": "Python 3 (ipykernel)",
   "language": "python",
   "name": "python3"
  },
  "language_info": {
   "codemirror_mode": {
    "name": "ipython",
    "version": 3
   },
   "file_extension": ".py",
   "mimetype": "text/x-python",
   "name": "python",
   "nbconvert_exporter": "python",
   "pygments_lexer": "ipython3",
   "version": "3.8.10"
  }
 },
 "nbformat": 4,
 "nbformat_minor": 5
}
